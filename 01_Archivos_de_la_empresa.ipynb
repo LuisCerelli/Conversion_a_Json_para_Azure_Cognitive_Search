{
 "cells": [
  {
   "cell_type": "markdown",
   "metadata": {},
   "source": [
    "### Convirtiendo los archivos en Json para luego subir a Azure Cognitive Search"
   ]
  },
  {
   "cell_type": "markdown",
   "metadata": {},
   "source": [
    "Bajando las bibliotecas:\n",
    "* PyPDF2\n",
    "* python-docx\n",
    "* openpyxl"
   ]
  },
  {
   "cell_type": "code",
   "execution_count": 1,
   "metadata": {},
   "outputs": [
    {
     "name": "stdout",
     "output_type": "stream",
     "text": [
      "Requirement already satisfied: PyPDF2 in /Library/Frameworks/Python.framework/Versions/3.12/lib/python3.12/site-packages (3.0.1)\n",
      "Requirement already satisfied: python-docx in /Library/Frameworks/Python.framework/Versions/3.12/lib/python3.12/site-packages (1.1.2)\n",
      "Requirement already satisfied: openpyxl in /Library/Frameworks/Python.framework/Versions/3.12/lib/python3.12/site-packages (3.1.2)\n",
      "Requirement already satisfied: pandas in /Library/Frameworks/Python.framework/Versions/3.12/lib/python3.12/site-packages (2.2.2)\n",
      "Requirement already satisfied: xlrd in /Library/Frameworks/Python.framework/Versions/3.12/lib/python3.12/site-packages (2.0.1)\n",
      "Requirement already satisfied: python-dotenv in /Library/Frameworks/Python.framework/Versions/3.12/lib/python3.12/site-packages (1.0.1)\n",
      "Requirement already satisfied: lxml>=3.1.0 in /Library/Frameworks/Python.framework/Versions/3.12/lib/python3.12/site-packages (from python-docx) (5.2.1)\n",
      "Requirement already satisfied: typing-extensions>=4.9.0 in /Library/Frameworks/Python.framework/Versions/3.12/lib/python3.12/site-packages (from python-docx) (4.11.0)\n",
      "Requirement already satisfied: et-xmlfile in /Library/Frameworks/Python.framework/Versions/3.12/lib/python3.12/site-packages (from openpyxl) (1.1.0)\n",
      "Requirement already satisfied: numpy>=1.26.0 in /Library/Frameworks/Python.framework/Versions/3.12/lib/python3.12/site-packages (from pandas) (1.26.4)\n",
      "Requirement already satisfied: python-dateutil>=2.8.2 in /Users/luisalbertocerelli/Library/Python/3.12/lib/python/site-packages (from pandas) (2.9.0.post0)\n",
      "Requirement already satisfied: pytz>=2020.1 in /Library/Frameworks/Python.framework/Versions/3.12/lib/python3.12/site-packages (from pandas) (2024.1)\n",
      "Requirement already satisfied: tzdata>=2022.7 in /Library/Frameworks/Python.framework/Versions/3.12/lib/python3.12/site-packages (from pandas) (2024.1)\n",
      "Requirement already satisfied: six>=1.5 in /Users/luisalbertocerelli/Library/Python/3.12/lib/python/site-packages (from python-dateutil>=2.8.2->pandas) (1.16.0)\n",
      "\n",
      "\u001b[1m[\u001b[0m\u001b[34;49mnotice\u001b[0m\u001b[1;39;49m]\u001b[0m\u001b[39;49m A new release of pip is available: \u001b[0m\u001b[31;49m24.2\u001b[0m\u001b[39;49m -> \u001b[0m\u001b[32;49m24.3.1\u001b[0m\n",
      "\u001b[1m[\u001b[0m\u001b[34;49mnotice\u001b[0m\u001b[1;39;49m]\u001b[0m\u001b[39;49m To update, run: \u001b[0m\u001b[32;49mpip install --upgrade pip\u001b[0m\n"
     ]
    }
   ],
   "source": [
    "! pip install PyPDF2 python-docx openpyxl pandas xlrd python-dotenv\n"
   ]
  },
  {
   "cell_type": "code",
   "execution_count": 2,
   "metadata": {},
   "outputs": [
    {
     "name": "stderr",
     "output_type": "stream",
     "text": [
      "FloatObject (b'0.00-10') invalid; use 0.0 instead\n",
      "FloatObject (b'0.00-10') invalid; use 0.0 instead\n",
      "FloatObject (b'0.00-10') invalid; use 0.0 instead\n",
      "FloatObject (b'0.00-10') invalid; use 0.0 instead\n",
      "FloatObject (b'0.00-10') invalid; use 0.0 instead\n"
     ]
    },
    {
     "name": "stdout",
     "output_type": "stream",
     "text": [
      "Documentos convertidos a JSON y guardados en /Users/luisalbertocerelli/Desktop/00-Todo/14_Hackaton_Real/PRINCIPAL/01Conversion_File_Json/Json_conversion/documentos_indexados.json\n"
     ]
    }
   ],
   "source": [
    "from dotenv import load_dotenv\n",
    "import os\n",
    "import json\n",
    "from PyPDF2 import PdfReader\n",
    "from docx import Document  # Para procesar archivos Word\n",
    "import openpyxl  # Para procesar archivos Excel\n",
    "import warnings\n",
    "from openpyxl import Workbook\n",
    "import xlrd\n",
    "\n",
    "warnings.filterwarnings(\"ignore\", category=UserWarning, module=\"openpyxl\")\n",
    "\n",
    "# Cargar variables de entorno desde el archivo .env\n",
    "load_dotenv()\n",
    "\n",
    "# Ruta del directorio donde están los documentos\n",
    "input_dir = os.getenv(\"INPUT_DIR\")\n",
    "output_json = os.getenv(\"OUTPUT_JSON\")\n",
    "\n",
    "def convertir_xls_a_xlsx(ruta_xls, ruta_xlsx):\n",
    "    libro_xls = xlrd.open_workbook(ruta_xls)\n",
    "    libro_xlsx = Workbook()\n",
    "    hoja_xlsx = libro_xlsx.active\n",
    "\n",
    "    hoja_xls = libro_xls.sheet_by_index(0)\n",
    "    for row in range(hoja_xls.nrows):\n",
    "        for col in range(hoja_xls.ncols):\n",
    "            hoja_xlsx.cell(row=row+1, col=col+1).value = hoja_xls.cell_value(row, col)\n",
    "\n",
    "    libro_xlsx.save(ruta_xlsx)\n",
    "\n",
    "def extraer_texto_archivo(file_path, file_type):\n",
    "    try:\n",
    "        if file_type == \"pdf\":\n",
    "            reader = PdfReader(file_path)\n",
    "            text = \" \".join([page.extract_text() for page in reader.pages])\n",
    "        elif file_type == \"docx\":\n",
    "            doc = Document(file_path)\n",
    "            text = \"\\n\".join([p.text for p in doc.paragraphs])\n",
    "        elif file_type in [\"xlsx\", \"xls\"]:\n",
    "            wb = openpyxl.load_workbook(file_path, data_only=True)\n",
    "            text = \"\"\n",
    "            for sheet in wb.sheetnames:\n",
    "                ws = wb[sheet]\n",
    "                for row in ws.iter_rows(values_only=True):\n",
    "                    text += \" \".join([str(cell) for cell in row if cell is not None]) + \"\\n\"\n",
    "            wb.close()\n",
    "        else:\n",
    "            text = None\n",
    "        if text:\n",
    "            text = text.encode(\"utf-8\", \"replace\").decode(\"utf-8\")\n",
    "        return text\n",
    "    except Exception as e:\n",
    "        print(f\"Error procesando {file_path}: {e}\")\n",
    "        return None\n",
    "\n",
    "def convertir_a_json_recursivamente(directorio):\n",
    "    documentos = []\n",
    "    for root, _, files in os.walk(directorio):\n",
    "        for filename in files:\n",
    "            if filename.startswith(\".\") or filename.endswith((\".zip\", \".DS_Store\")):\n",
    "                continue\n",
    "            file_path = os.path.join(root, filename)\n",
    "            if filename.endswith(\".pdf\"):\n",
    "                text = extraer_texto_archivo(file_path, \"pdf\")\n",
    "            elif filename.endswith(\".docx\"):\n",
    "                text = extraer_texto_archivo(file_path, \"docx\")\n",
    "            elif filename.endswith(\".xlsx\"):\n",
    "                text = extraer_texto_archivo(file_path, \"xlsx\")\n",
    "            elif filename.endswith(\".xls\"):\n",
    "                text = extraer_texto_archivo(file_path, \"xls\")\n",
    "            else:\n",
    "                print(f\"Tipo de archivo no soportado: {filename}\")\n",
    "                continue\n",
    "\n",
    "            if text:\n",
    "                documento = {\n",
    "                    \"id\": filename,\n",
    "                    \"path\": file_path,\n",
    "                    \"content\": text\n",
    "                }\n",
    "                documentos.append(documento)\n",
    "\n",
    "    try:\n",
    "        with open(output_json, \"w\", encoding=\"utf-8\") as f:\n",
    "            json.dump(documentos, f, ensure_ascii=False, indent=4)\n",
    "        print(f\"Documentos convertidos a JSON y guardados en {output_json}\")\n",
    "    except UnicodeEncodeError as e:\n",
    "        print(f\"Error al guardar JSON: {e}\")\n",
    "\n",
    "# Llamar a la función con la variable input_dir\n",
    "convertir_a_json_recursivamente(input_dir)\n"
   ]
  },
  {
   "cell_type": "code",
   "execution_count": null,
   "metadata": {},
   "outputs": [],
   "source": []
  }
 ],
 "metadata": {
  "kernelspec": {
   "display_name": "Python 3",
   "language": "python",
   "name": "python3"
  },
  "language_info": {
   "codemirror_mode": {
    "name": "ipython",
    "version": 3
   },
   "file_extension": ".py",
   "mimetype": "text/x-python",
   "name": "python",
   "nbconvert_exporter": "python",
   "pygments_lexer": "ipython3",
   "version": "3.12.3"
  }
 },
 "nbformat": 4,
 "nbformat_minor": 2
}
